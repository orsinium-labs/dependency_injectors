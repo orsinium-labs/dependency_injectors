{
 "cells": [
  {
   "cell_type": "code",
   "execution_count": 3,
   "metadata": {},
   "outputs": [],
   "source": [
    "import antidote\n",
    "import diay\n",
    "import dependencies"
   ]
  },
  {
   "cell_type": "markdown",
   "metadata": {},
   "source": [
    "## 1. Easy to use"
   ]
  },
  {
   "cell_type": "code",
   "execution_count": 6,
   "metadata": {},
   "outputs": [
    {
     "data": {
      "text/plain": [
       "True"
      ]
     },
     "execution_count": 6,
     "metadata": {},
     "output_type": "execute_result"
    }
   ],
   "source": [
    "@antidote.register\n",
    "class Dep:\n",
    "    pass\n",
    "\n",
    "@antidote.inject\n",
    "def func(dep: Dep) -> bool:\n",
    "    return isinstance(dep, Dep)\n",
    "\n",
    "func()"
   ]
  },
  {
   "cell_type": "code",
   "execution_count": 25,
   "metadata": {},
   "outputs": [
    {
     "data": {
      "text/plain": [
       "True"
      ]
     },
     "execution_count": 25,
     "metadata": {},
     "output_type": "execute_result"
    }
   ],
   "source": [
    "class Dep:\n",
    "    pass\n",
    "\n",
    "class Func:\n",
    "    def __init__(self, dep: Dep):\n",
    "        self.dep = dep\n",
    "    \n",
    "    def __call__(self) -> bool:\n",
    "        return isinstance(self.dep, Dep)\n",
    "\n",
    "class Container(dependencies.Injector):\n",
    "    dep = Dep\n",
    "    func = Func\n",
    "\n",
    "Container.func()"
   ]
  },
  {
   "cell_type": "code",
   "execution_count": 30,
   "metadata": {},
   "outputs": [
    {
     "ename": "TypeError",
     "evalue": "func() missing 1 required positional argument: 'dep'",
     "output_type": "error",
     "traceback": [
      "\u001b[0;31m---------------------------------------------------------------------------\u001b[0m",
      "\u001b[0;31mTypeError\u001b[0m                                 Traceback (most recent call last)",
      "\u001b[0;32m<ipython-input-30-02381594a15c>\u001b[0m in \u001b[0;36m<module>\u001b[0;34m\u001b[0m\n\u001b[1;32m      9\u001b[0m     \u001b[0mfunc\u001b[0m \u001b[0;34m=\u001b[0m \u001b[0mfunc\u001b[0m\u001b[0;34m\u001b[0m\u001b[0;34m\u001b[0m\u001b[0m\n\u001b[1;32m     10\u001b[0m \u001b[0;34m\u001b[0m\u001b[0m\n\u001b[0;32m---> 11\u001b[0;31m \u001b[0mContainer\u001b[0m\u001b[0;34m.\u001b[0m\u001b[0mfunc\u001b[0m\u001b[0;34m(\u001b[0m\u001b[0;34m)\u001b[0m\u001b[0;34m\u001b[0m\u001b[0;34m\u001b[0m\u001b[0m\n\u001b[0m",
      "\u001b[0;31mTypeError\u001b[0m: func() missing 1 required positional argument: 'dep'"
     ]
    }
   ],
   "source": [
    "class Dep:\n",
    "    pass\n",
    "\n",
    "def func(dep: Dep) -> bool:\n",
    "    return isinstance(dep, Dep)\n",
    "\n",
    "class Container(dependencies.Injector):\n",
    "    dep = Dep\n",
    "    func = func\n",
    "\n",
    "Container.func()"
   ]
  },
  {
   "cell_type": "code",
   "execution_count": 23,
   "metadata": {},
   "outputs": [
    {
     "data": {
      "text/plain": [
       "True"
      ]
     },
     "execution_count": 23,
     "metadata": {},
     "output_type": "execute_result"
    }
   ],
   "source": [
    "class Dep:\n",
    "    pass\n",
    "\n",
    "def func(dep: Dep) -> bool:\n",
    "    return isinstance(dep, Dep)\n",
    "\n",
    "injector = diay.Injector()\n",
    "injector.call(func)"
   ]
  },
  {
   "cell_type": "code",
   "execution_count": 34,
   "metadata": {},
   "outputs": [],
   "source": [
    "from dependency_injector import containers, providers"
   ]
  },
  {
   "cell_type": "code",
   "execution_count": 43,
   "metadata": {},
   "outputs": [
    {
     "data": {
      "text/plain": [
       "True"
      ]
     },
     "execution_count": 43,
     "metadata": {},
     "output_type": "execute_result"
    }
   ],
   "source": [
    "class Dep:\n",
    "    pass\n",
    "\n",
    "def target(dep: Dep):\n",
    "    return isinstance(dep, Dep)\n",
    "\n",
    "class Container(containers.DeclarativeContainer):\n",
    "    dep = providers.Callable(Dep)\n",
    "    target_ = providers.Callable(target, dep=dep)\n",
    "\n",
    "Container.target_()"
   ]
  },
  {
   "cell_type": "markdown",
   "metadata": {},
   "source": [
    "## 2. Function injection support"
   ]
  },
  {
   "cell_type": "markdown",
   "metadata": {},
   "source": [
    "1. antidote: yes\n",
    "1. dependencies: only as callable class\n",
    "1. diay: yes"
   ]
  },
  {
   "cell_type": "markdown",
   "metadata": {},
   "source": [
    "## 3. Class injection support"
   ]
  },
  {
   "cell_type": "code",
   "execution_count": null,
   "metadata": {},
   "outputs": [],
   "source": []
  }
 ],
 "metadata": {
  "kernelspec": {
   "display_name": "Python 3",
   "language": "python",
   "name": "python3"
  },
  "language_info": {
   "codemirror_mode": {
    "name": "ipython",
    "version": 3
   },
   "file_extension": ".py",
   "mimetype": "text/x-python",
   "name": "python",
   "nbconvert_exporter": "python",
   "pygments_lexer": "ipython3",
   "version": "3.6.7"
  }
 },
 "nbformat": 4,
 "nbformat_minor": 2
}
